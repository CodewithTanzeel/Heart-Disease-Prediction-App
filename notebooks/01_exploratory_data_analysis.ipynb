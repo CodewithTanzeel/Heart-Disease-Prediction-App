{
 "cells": [
  {
   "cell_type": "code",
   "execution_count": null,
   "id": "ec2bcc50",
   "metadata": {},
   "outputs": [],
   "source": [
    "# 01_exploratory_data_analysis.ipynb\n",
    "\n",
    "import pandas as pd\n",
    "import matplotlib.pyplot as plt\n",
    "import seaborn as sns\n",
    "\n",
    "# Load dataset\n",
    "df = pd.read_csv(\"data/dataset.csv\")\n",
    "\n",
    "# Basic info\n",
    "print(df.head())\n",
    "print(df.info())\n",
    "print(df.describe())\n",
    "\n",
    "# Check for missing values\n",
    "print(df.isnull().sum())\n",
    "\n",
    "# Pairplot for visualization\n",
    "sns.pairplot(df)\n",
    "plt.show()\n"
   ]
  }
 ],
 "metadata": {
  "language_info": {
   "name": "python"
  }
 },
 "nbformat": 4,
 "nbformat_minor": 5
}
