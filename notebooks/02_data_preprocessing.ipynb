{
 "cells": [
  {
   "cell_type": "code",
   "execution_count": null,
   "id": "06b74dc7",
   "metadata": {},
   "outputs": [],
   "source": [
    "# 02_data_preprocessing.ipynb\n",
    "\n",
    "import pandas as pd\n",
    "from sklearn.model_selection import train_test_split\n",
    "from sklearn.preprocessing import StandardScaler\n",
    "\n",
    "# Load dataset\n",
    "df = pd.read_csv(\"data/dataset.csv\")\n",
    "\n",
    "# Separate features and target\n",
    "X = df.drop(\"target\", axis=1)\n",
    "y = df[\"target\"]\n",
    "\n",
    "# Train-test split\n",
    "X_train, X_test, y_train, y_test = train_test_split(\n",
    "    X, y, test_size=0.2, random_state=42\n",
    ")\n",
    "\n",
    "# Feature scaling\n",
    "scaler = StandardScaler()\n",
    "X_train_scaled = scaler.fit_transform(X_train)\n",
    "X_test_scaled = scaler.transform(X_test)\n",
    "\n",
    "# Save preprocessed data\n",
    "import joblib\n",
    "joblib.dump((X_train_scaled, X_test_scaled, y_train, y_test), \"models/preprocessed_data.pkl\")\n"
   ]
  }
 ],
 "metadata": {
  "language_info": {
   "name": "python"
  }
 },
 "nbformat": 4,
 "nbformat_minor": 5
}
