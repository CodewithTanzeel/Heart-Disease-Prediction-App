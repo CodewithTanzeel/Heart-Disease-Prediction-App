{
 "cells": [
  {
   "cell_type": "code",
   "execution_count": null,
   "id": "51be6dd4",
   "metadata": {},
   "outputs": [],
   "source": [
    "# 03_model_training.ipynb\n",
    "\n",
    "import joblib\n",
    "from sklearn.linear_model import LogisticRegression\n",
    "\n",
    "# Load preprocessed data\n",
    "X_train_scaled, X_test_scaled, y_train, y_test = joblib.load(\"models/preprocessed_data.pkl\")\n",
    "\n",
    "# Train logistic regression\n",
    "model = LogisticRegression()\n",
    "model.fit(X_train_scaled, y_train)\n",
    "\n",
    "# Save model\n",
    "joblib.dump(model, \"models/logistic_regression.pkl\")\n"
   ]
  }
 ],
 "metadata": {
  "language_info": {
   "name": "python"
  }
 },
 "nbformat": 4,
 "nbformat_minor": 5
}
