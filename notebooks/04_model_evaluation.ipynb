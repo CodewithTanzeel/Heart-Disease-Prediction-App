{
 "cells": [
  {
   "cell_type": "code",
   "execution_count": null,
   "id": "64435b80",
   "metadata": {},
   "outputs": [],
   "source": [
    "# 04_model_evaluation.ipynb\n",
    "\n",
    "import joblib\n",
    "from sklearn.metrics import accuracy_score, classification_report, confusion_matrix\n",
    "import seaborn as sns\n",
    "import matplotlib.pyplot as plt\n",
    "\n",
    "# Load model and data\n",
    "model = joblib.load(\"models/logistic_regression.pkl\")\n",
    "_, X_test_scaled, _, y_test = joblib.load(\"models/preprocessed_data.pkl\")\n",
    "\n",
    "# Predictions\n",
    "y_pred = model.predict(X_test_scaled)\n",
    "\n",
    "# Metrics\n",
    "print(\"Accuracy:\", accuracy_score(y_test, y_pred))\n",
    "print(\"\\nClassification Report:\\n\", classification_report(y_test, y_pred))\n",
    "\n",
    "# Confusion matrix\n",
    "cm = confusion_matrix(y_test, y_pred)\n",
    "sns.heatmap(cm, annot=True, fmt=\"d\", cmap=\"Blues\")\n",
    "plt.xlabel(\"Predicted\")\n",
    "plt.ylabel(\"Actual\")\n",
    "plt.show()\n"
   ]
  }
 ],
 "metadata": {
  "language_info": {
   "name": "python"
  }
 },
 "nbformat": 4,
 "nbformat_minor": 5
}
